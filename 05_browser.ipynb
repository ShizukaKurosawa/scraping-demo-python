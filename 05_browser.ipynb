{
 "metadata": {
  "language_info": {
   "codemirror_mode": {
    "name": "ipython",
    "version": 3
   },
   "file_extension": ".py",
   "mimetype": "text/x-python",
   "name": "python",
   "nbconvert_exporter": "python",
   "pygments_lexer": "ipython3",
   "version": "3.8.2-final"
  },
  "orig_nbformat": 2,
  "kernelspec": {
   "name": "python3",
   "display_name": "Python 3.8.2 64-bit",
   "metadata": {
    "interpreter": {
     "hash": "31f2aee4e71d21fbe5cf8b01ff0e069b9275f58929596ceb00d14d90e3e16cd6"
    }
   }
  }
 },
 "nbformat": 4,
 "nbformat_minor": 2,
 "cells": [
  {
   "cell_type": "code",
   "execution_count": 22,
   "metadata": {},
   "outputs": [],
   "source": [
    "import requests\n",
    "from bs4 import BeautifulSoup"
   ]
  },
  {
   "cell_type": "code",
   "execution_count": 23,
   "metadata": {},
   "outputs": [
    {
     "output_type": "execute_result",
     "data": {
      "text/plain": [
       "<Response [200]>"
      ]
     },
     "metadata": {},
     "execution_count": 23
    }
   ],
   "source": [
    "res = requests.get('https://scraping-for-beginner.herokuapp.com/image')\n",
    "res"
   ]
  },
  {
   "cell_type": "code",
   "execution_count": 24,
   "metadata": {},
   "outputs": [
    {
     "output_type": "execute_result",
     "data": {
      "text/plain": [
       "<!DOCTYPE html>\n",
       "\n",
       "<html dir=\"ltr\" lang=\"en\">\n",
       "<head>\n",
       "<meta charset=\"utf-8\"/>\n",
       "<title>Webスクレイピング入門者のためのサイト</title>\n",
       "<!-- Compiled and minified CSS -->\n",
       "<link href=\"https://cdnjs.cloudflare.com/ajax/libs/materialize/1.0.0-rc.2/css/materialize.min.css\" rel=\"stylesheet\"/>\n",
       "<link href=\"https://fonts.googleapis.com/icon?family=Material+Icons\" rel=\"stylesheet\"/> \b\n",
       "  <link href=\"static/assets/css/style.css\" rel=\"stylesheet\"/>\n",
       "<link href=\"static/assets/css/image.css\" rel=\"stylesheet\"/>\n",
       "</head>\n",
       "<body>\n",
       "<!-- Navbar -->\n",
       "<div class=\"navbar-fixed\">\n",
       "<!-- Dropdown Structure -->\n",
       "<nav class=\"\">\n",
       "<div class=\"nav-wrapper row\">\n",
       "<div class=\"col s5 l4 offset-s1 offset-l1\">\n",
       "<a class=\"brand-logo\" href=\"\b/\">Webスクレイピング入門</a>\n",
       "</div>\n",
       "<div class=\"col s5 l6\">\n",
       "<ul class=\"right hide-on-med-and-down\" id=\"nav-mobile\">\n",
       "<li><a class=\"\" href=\"\b/login_page\">ログイン</a></li>\n",
       "<li><a class=\"\" href=\"/ranking/\">ランキング</a></li>\n",
       "<li><a class=\"\" href=\"/image\">画像</a></li>\n",
       "<li><a class=\"\" href=\"/udemy\">Udemy</a></li>\n",
       "<li><a class=\"\" href=\"https://scraping-for-beginner.readthedocs.io/\" target=\"”_blank”\">サンプルコード</a></li>\n",
       "</ul>\n",
       "</div>\n",
       "</div>\n",
       "</nav>\n",
       "</div>\n",
       "<div class=\"section\"></div>\n",
       "<!-- Header -->\n",
       "<!-- <div class=\"header\">\n",
       "  <img src=\"/static/assets/img/camera_icon.png\" width=\"100px\">\n",
       "  <h4 class=\"grey-text text-darken-3\">写真一覧</h4>\n",
       "</div> -->\n",
       "<!-- Photo Grid -->\n",
       "<div class=\"container\">\n",
       "<div class=\"row card\">\n",
       "<div class=\"col s12 m6 l4\"><img class=\"materialbox responsive-img card\" src=\"/static/assets/img/img1.JPG\"/></div>\n",
       "<div class=\"col s12 m6 l4\"><img class=\"materialbox responsive-img card\" src=\"/static/assets/img/img2.JPG\"/></div>\n",
       "<div class=\"col s12 m6 l4\"><img class=\"materialbox responsive-img card\" src=\"/static/assets/img/img3.JPG\"/></div>\n",
       "<div class=\"col s12 m6 l4\"><img class=\"materialbox responsive-img card\" src=\"/static/assets/img/img4.JPG\"/></div>\n",
       "<div class=\"col s12 m6 l4\"><img class=\"materialbox responsive-img card\" src=\"/static/assets/img/img5.JPG\"/></div>\n",
       "<div class=\"col s12 m6 l4\"><img class=\"materialbox responsive-img card\" src=\"/static/assets/img/img6.JPG\"/></div>\n",
       "<div class=\"col s12 m6 l4\"><img class=\"materialbox responsive-img card\" src=\"/static/assets/img/img7.JPG\"/></div>\n",
       "<div class=\"col s12 m6 l4\"><img class=\"materialbox responsive-img card\" src=\"/static/assets/img/img8.JPG\"/></div>\n",
       "<div class=\"col s12 m6 l4\"><img class=\"materialbox responsive-img card\" src=\"/static/assets/img/img9.JPG\"/></div>\n",
       "<div class=\"col s12 m6 l4\"><img class=\"materialbox responsive-img card\" src=\"/static/assets/img/img10.JPG\"/></div>\n",
       "<div class=\"col s12 m6 l4\"><img class=\"materialbox responsive-img card\" src=\"/static/assets/img/img11.JPG\"/></div>\n",
       "<div class=\"col s12 m6 l4\"><img class=\"materialbox responsive-img card\" src=\"/static/assets/img/img12.JPG\"/></div>\n",
       "<div class=\"col s12 m6 l4\"><img class=\"materialbox responsive-img card\" src=\"/static/assets/img/img13.JPG\"/></div>\n",
       "<div class=\"col s12 m6 l4\"><img class=\"materialbox responsive-img card\" src=\"/static/assets/img/img14.JPG\"/></div>\n",
       "<div class=\"col s12 m6 l4\"><img class=\"materialbox responsive-img card\" src=\"/static/assets/img/img15.JPG\"/></div>\n",
       "<div class=\"col s12 m6 l4\"><img class=\"materialbox responsive-img card\" src=\"/static/assets/img/img16.JPG\"/></div>\n",
       "<div class=\"col s12 m6 l4\"><img class=\"materialbox responsive-img card\" src=\"/static/assets/img/img17.JPG\"/></div>\n",
       "<div class=\"col s12 m6 l4\"><img class=\"materialbox responsive-img card\" src=\"/static/assets/img/img18.JPG\"/></div>\n",
       "<div class=\"col s12 m6 l4\"><img class=\"materialbox responsive-img card\" src=\"/static/assets/img/img19.JPG\"/></div>\n",
       "<div class=\"col s12 m6 l4\"><img class=\"materialbox responsive-img card\" src=\"/static/assets/img/img20.JPG\"/></div>\n",
       "<div class=\"col s12 m6 l4\"><img class=\"materialbox responsive-img card\" src=\"/static/assets/img/img21.JPG\"/></div>\n",
       "<div class=\"col s12 m6 l4\"><img class=\"materialbox responsive-img card\" src=\"/static/assets/img/img22.JPG\"/></div>\n",
       "<div class=\"col s12 m6 l4\"><img class=\"materialbox responsive-img card\" src=\"/static/assets/img/img23.JPG\"/></div>\n",
       "<div class=\"col s12 m6 l4\"><img class=\"materialbox responsive-img card\" src=\"/static/assets/img/img24.JPG\"/></div>\n",
       "</div>\n",
       "</div>\n",
       "<div class=\"section\"></div>\n",
       "<div class=\"section\"></div>\n",
       "<!-- Compiled and minified JavaScript -->\n",
       "<script src=\"https://code.jquery.com/jquery-3.3.1.min.js\"></script>\n",
       "<script src=\"https://cdnjs.cloudflare.com/ajax/libs/materialize/1.0.0-rc.2/js/materialize.min.js\"></script>\n",
       "<script>\n",
       "  $(document).ready(function() {\n",
       "    $(\".dropdown-trigger\").dropdown();\n",
       "    $('.materialbox').materialbox();\n",
       "  });\n",
       "</script>\n",
       "</body>\n",
       "</html>"
      ]
     },
     "metadata": {},
     "execution_count": 24
    }
   ],
   "source": [
    "soup = BeautifulSoup(res.text, 'html.parser')\n",
    "soup"
   ]
  },
  {
   "cell_type": "code",
   "execution_count": 25,
   "metadata": {},
   "outputs": [
    {
     "output_type": "execute_result",
     "data": {
      "text/plain": [
       "'/static/assets/img/img1.JPG'"
      ]
     },
     "metadata": {},
     "execution_count": 25
    }
   ],
   "source": [
    "img_tag = soup.find('img')\n",
    "img_tag['src']"
   ]
  },
  {
   "cell_type": "code",
   "execution_count": 47,
   "metadata": {},
   "outputs": [
    {
     "output_type": "execute_result",
     "data": {
      "text/plain": [
       "'https://scraping-for-beginner.herokuapp.com/static/assets/img/img1.JPG'"
      ]
     },
     "metadata": {},
     "execution_count": 47
    }
   ],
   "source": [
    "root_url = 'https://scraping-for-beginner.herokuapp.com'\n",
    "img_url = root_url + img_tag['src']\n",
    "img_url"
   ]
  },
  {
   "cell_type": "code",
   "execution_count": 31,
   "metadata": {},
   "outputs": [
    {
     "output_type": "stream",
     "name": "stdout",
     "text": [
      "Requirement already satisfied: Pillow in /Users/Shizuka/Library/Python/3.8/lib/python/site-packages (8.1.0)\n",
      "\u001b[33mWARNING: You are using pip version 19.2.3, however version 21.0.1 is available.\n",
      "You should consider upgrading via the 'pip install --upgrade pip' command.\u001b[0m\n",
      "Note: you may need to restart the kernel to use updated packages.\n"
     ]
    }
   ],
   "source": [
    "pip install Pillow --user"
   ]
  },
  {
   "cell_type": "code",
   "execution_count": 49,
   "metadata": {},
   "outputs": [],
   "source": [
    "from PIL import Image\n",
    "import io"
   ]
  },
  {
   "cell_type": "code",
   "execution_count": 51,
   "metadata": {},
   "outputs": [],
   "source": [
    "img = Image.open(io.BytesIO(requests.get(img_url).content))\n",
    "img.save('img/sample.jpg')"
   ]
  },
  {
   "cell_type": "code",
   "execution_count": 20,
   "metadata": {},
   "outputs": [
    {
     "output_type": "execute_result",
     "data": {
      "text/plain": [
       "<Response [200]>"
      ]
     },
     "metadata": {},
     "execution_count": 20
    }
   ],
   "source": [
    "requests.get(img_url)"
   ]
  },
  {
   "cell_type": "code",
   "execution_count": 52,
   "metadata": {},
   "outputs": [],
   "source": [
    "# requests.get(img_url).content"
   ]
  },
  {
   "cell_type": "code",
   "execution_count": 35,
   "metadata": {},
   "outputs": [
    {
     "output_type": "execute_result",
     "data": {
      "text/plain": [
       "<_io.BytesIO at 0x10efac360>"
      ]
     },
     "metadata": {},
     "execution_count": 35
    }
   ],
   "source": [
    "io.BytesIO(requests.get(img_url).content)"
   ]
  },
  {
   "cell_type": "code",
   "execution_count": null,
   "metadata": {},
   "outputs": [],
   "source": [
    "soup = BeautifulSoup(res.text, 'html.parser')\n",
    "img_tag = soup.find('img')\n",
    "\n",
    "root_url = 'https://scraping-for-beginner.herokuapp.com'\n",
    "img_url = root_url + img_tag['src']\n",
    "\n",
    "img = Image.open(io.BytesIO(requests.get(img_url).content))\n",
    "img.save('img/sample.jpg')"
   ]
  },
  {
   "cell_type": "code",
   "execution_count": 53,
   "metadata": {},
   "outputs": [
    {
     "output_type": "execute_result",
     "data": {
      "text/plain": [
       "[<img class=\"materialbox responsive-img card\" src=\"/static/assets/img/img1.JPG\"/>,\n",
       " <img class=\"materialbox responsive-img card\" src=\"/static/assets/img/img2.JPG\"/>,\n",
       " <img class=\"materialbox responsive-img card\" src=\"/static/assets/img/img3.JPG\"/>,\n",
       " <img class=\"materialbox responsive-img card\" src=\"/static/assets/img/img4.JPG\"/>,\n",
       " <img class=\"materialbox responsive-img card\" src=\"/static/assets/img/img5.JPG\"/>,\n",
       " <img class=\"materialbox responsive-img card\" src=\"/static/assets/img/img6.JPG\"/>,\n",
       " <img class=\"materialbox responsive-img card\" src=\"/static/assets/img/img7.JPG\"/>,\n",
       " <img class=\"materialbox responsive-img card\" src=\"/static/assets/img/img8.JPG\"/>,\n",
       " <img class=\"materialbox responsive-img card\" src=\"/static/assets/img/img9.JPG\"/>,\n",
       " <img class=\"materialbox responsive-img card\" src=\"/static/assets/img/img10.JPG\"/>,\n",
       " <img class=\"materialbox responsive-img card\" src=\"/static/assets/img/img11.JPG\"/>,\n",
       " <img class=\"materialbox responsive-img card\" src=\"/static/assets/img/img12.JPG\"/>,\n",
       " <img class=\"materialbox responsive-img card\" src=\"/static/assets/img/img13.JPG\"/>,\n",
       " <img class=\"materialbox responsive-img card\" src=\"/static/assets/img/img14.JPG\"/>,\n",
       " <img class=\"materialbox responsive-img card\" src=\"/static/assets/img/img15.JPG\"/>,\n",
       " <img class=\"materialbox responsive-img card\" src=\"/static/assets/img/img16.JPG\"/>,\n",
       " <img class=\"materialbox responsive-img card\" src=\"/static/assets/img/img17.JPG\"/>,\n",
       " <img class=\"materialbox responsive-img card\" src=\"/static/assets/img/img18.JPG\"/>,\n",
       " <img class=\"materialbox responsive-img card\" src=\"/static/assets/img/img19.JPG\"/>,\n",
       " <img class=\"materialbox responsive-img card\" src=\"/static/assets/img/img20.JPG\"/>,\n",
       " <img class=\"materialbox responsive-img card\" src=\"/static/assets/img/img21.JPG\"/>,\n",
       " <img class=\"materialbox responsive-img card\" src=\"/static/assets/img/img22.JPG\"/>,\n",
       " <img class=\"materialbox responsive-img card\" src=\"/static/assets/img/img23.JPG\"/>,\n",
       " <img class=\"materialbox responsive-img card\" src=\"/static/assets/img/img24.JPG\"/>]"
      ]
     },
     "metadata": {},
     "execution_count": 53
    }
   ],
   "source": [
    "soup.find_all('img')"
   ]
  },
  {
   "cell_type": "code",
   "execution_count": 65,
   "metadata": {},
   "outputs": [],
   "source": [
    "img_tags = soup.find_all('img')\n",
    "\n",
    "for i, image_tag in enumerate(img_tags):\n",
    "    # img_tag = img_tags[0]\n",
    "    # print(i, image_tag)\n",
    "    root_url = 'https://scraping-for-beginner.herokuapp.com'\n",
    "    img_url = root_url + img_tag['src']\n",
    "\n",
    "    img = Image.open(io.BytesIO(requests.get(img_url).content))\n",
    "    img.save(f'img/{i}.jpg')"
   ]
  },
  {
   "cell_type": "code",
   "execution_count": null,
   "metadata": {},
   "outputs": [],
   "source": []
  }
 ]
}