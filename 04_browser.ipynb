{
 "metadata": {
  "language_info": {
   "codemirror_mode": {
    "name": "ipython",
    "version": 3
   },
   "file_extension": ".py",
   "mimetype": "text/x-python",
   "name": "python",
   "nbconvert_exporter": "python",
   "pygments_lexer": "ipython3",
   "version": "3.8.2-final"
  },
  "orig_nbformat": 2,
  "kernelspec": {
   "name": "python3",
   "display_name": "Python 3.8.2 64-bit",
   "metadata": {
    "interpreter": {
     "hash": "31f2aee4e71d21fbe5cf8b01ff0e069b9275f58929596ceb00d14d90e3e16cd6"
    }
   }
  }
 },
 "nbformat": 4,
 "nbformat_minor": 2,
 "cells": [
  {
   "cell_type": "code",
   "execution_count": 126,
   "metadata": {},
   "outputs": [],
   "source": [
    "import requests\n",
    "from bs4 import BeautifulSoup"
   ]
  },
  {
   "cell_type": "code",
   "execution_count": 127,
   "metadata": {},
   "outputs": [
    {
     "output_type": "execute_result",
     "data": {
      "text/plain": [
       "<Response [200]>"
      ]
     },
     "metadata": {},
     "execution_count": 127
    }
   ],
   "source": [
    "res = requests.get('https://scraping-for-beginner.herokuapp.com/ranking/')\n",
    "res"
   ]
  },
  {
   "cell_type": "code",
   "execution_count": 128,
   "metadata": {},
   "outputs": [],
   "source": [
    "soup = BeautifulSoup(res.text, 'html.parser')\n",
    "# soup"
   ]
  },
  {
   "cell_type": "code",
   "execution_count": 129,
   "metadata": {},
   "outputs": [
    {
     "output_type": "execute_result",
     "data": {
      "text/plain": [
       "<div class=\"u_title col s12\">\n",
       "<p><h2><span class=\"badge\">1</span>観光地 1</h2></p>\n",
       "</div>"
      ]
     },
     "metadata": {},
     "execution_count": 129
    }
   ],
   "source": [
    "## 1つ目の観光地情報を取得\n",
    "# 観光地名の取得\n",
    "spots = soup.find_all('div', attrs = {'class' : 'u_areaListRankingBox'})\n",
    "spot = spots[0]\n",
    "spot_name = spot.find('div', attrs = {'class' : 'u_title'})\n",
    "spot_name"
   ]
  },
  {
   "cell_type": "code",
   "execution_count": 130,
   "metadata": {},
   "outputs": [
    {
     "output_type": "execute_result",
     "data": {
      "text/plain": [
       "'\\n1観光地 1\\n'"
      ]
     },
     "metadata": {},
     "execution_count": 130
    }
   ],
   "source": [
    "spot_name.text"
   ]
  },
  {
   "cell_type": "code",
   "execution_count": 131,
   "metadata": {},
   "outputs": [
    {
     "output_type": "execute_result",
     "data": {
      "text/plain": [
       "<span class=\"badge\">1</span>"
      ]
     },
     "metadata": {},
     "execution_count": 131
    }
   ],
   "source": [
    "# 特定の文字列を抽出する\n",
    "spot_name.find('span', attrs = {'class' : 'badge'}).extract()"
   ]
  },
  {
   "cell_type": "code",
   "execution_count": 132,
   "metadata": {},
   "outputs": [
    {
     "output_type": "execute_result",
     "data": {
      "text/plain": [
       "<div class=\"u_title col s12\">\n",
       "<p><h2>観光地 1</h2></p>\n",
       "</div>"
      ]
     },
     "metadata": {},
     "execution_count": 132
    }
   ],
   "source": [
    "spot_name"
   ]
  },
  {
   "cell_type": "code",
   "execution_count": 133,
   "metadata": {},
   "outputs": [
    {
     "output_type": "execute_result",
     "data": {
      "text/plain": [
       "'\\n観光地 1\\n'"
      ]
     },
     "metadata": {},
     "execution_count": 133
    }
   ],
   "source": [
    "spot_name.text"
   ]
  },
  {
   "cell_type": "code",
   "execution_count": 134,
   "metadata": {},
   "outputs": [
    {
     "output_type": "execute_result",
     "data": {
      "text/plain": [
       "'観光地 1'"
      ]
     },
     "metadata": {},
     "execution_count": 134
    }
   ],
   "source": [
    "# replaceで置換する\n",
    "spot_name = spot_name.text.replace('\\n', '')\n",
    "spot_name"
   ]
  },
  {
   "cell_type": "code",
   "execution_count": 135,
   "metadata": {},
   "outputs": [
    {
     "output_type": "execute_result",
     "data": {
      "text/plain": [
       "<div class=\"u_areaListRankingBox row\">\n",
       "<div class=\"u_title col s12\">\n",
       "<p><h2>観光地 1</h2></p>\n",
       "</div>\n",
       "<!-- 観光地イメージ -->\n",
       "<div class=\"place_img col s12\">\n",
       "<img alt=\"\" src=\"/static/assets/img/img1.JPG\"/>\n",
       "</div>\n",
       "<!-- 総合評価 -->\n",
       "<div class=\"u_rankBox col s12\">\n",
       "<span style=\"--rate: 94.0%;\"></span><span class=\"evaluateNumber\">4.7</span><br/>\n",
       "</div>\n",
       "<!-- 各カテゴリ評価 -->\n",
       "<div class=\"u_categoryTipsItem col s12\">\n",
       "<dl>\n",
       "<dt>楽しさ</dt>\n",
       "<dd class=\"is_rank\"><span class=\"evaluateNumber\">4.6</span></dd>\n",
       "<dd class=\"comment\">楽しくて帰りたくなかった</dd>\n",
       "</dl>\n",
       "<dl>\n",
       "<dt>人混みの多さ</dt>\n",
       "<dd class=\"is_rank\"><span class=\"evaluateNumber\">4.5</span></dd>\n",
       "<dd class=\"comment\">非常に混んでいた</dd>\n",
       "</dl>\n",
       "<dl>\n",
       "<dt>景色</dt>\n",
       "<dd class=\"is_rank\"><span class=\"evaluateNumber\">4.9</span></dd>\n",
       "<dd class=\"comment\">海が非常に綺麗であった</dd>\n",
       "</dl>\n",
       "<dl>\n",
       "<dt>アクセス</dt>\n",
       "<dd class=\"is_rank\"><span class=\"evaluateNumber\">4.2</span></dd>\n",
       "<dd class=\"comment\">船で2時間ほどであった</dd>\n",
       "</dl>\n",
       "</div>\n",
       "<div class=\"divider\">\n",
       "</div>\n",
       "</div>"
      ]
     },
     "metadata": {},
     "execution_count": 135
    }
   ],
   "source": [
    "#評点\n",
    "spot"
   ]
  },
  {
   "cell_type": "code",
   "execution_count": 136,
   "metadata": {},
   "outputs": [
    {
     "output_type": "execute_result",
     "data": {
      "text/plain": [
       "'4.7'"
      ]
     },
     "metadata": {},
     "execution_count": 136
    }
   ],
   "source": [
    "eval_num = soup.find('div', attrs = {'class' : 'u_rankBox'}).text\n",
    "eval_num = eval_num.replace('\\n', '')\n",
    "eval_num"
   ]
  },
  {
   "cell_type": "code",
   "execution_count": 137,
   "metadata": {},
   "outputs": [
    {
     "output_type": "execute_result",
     "data": {
      "text/plain": [
       "4.7"
      ]
     },
     "metadata": {},
     "execution_count": 137
    }
   ],
   "source": [
    "eval_num = float(eval_num)\n",
    "eval_num"
   ]
  },
  {
   "cell_type": "code",
   "execution_count": 138,
   "metadata": {},
   "outputs": [
    {
     "output_type": "execute_result",
     "data": {
      "text/plain": [
       "<div class=\"u_areaListRankingBox row\">\n",
       "<div class=\"u_title col s12\">\n",
       "<p><h2>観光地 1</h2></p>\n",
       "</div>\n",
       "<!-- 観光地イメージ -->\n",
       "<div class=\"place_img col s12\">\n",
       "<img alt=\"\" src=\"/static/assets/img/img1.JPG\"/>\n",
       "</div>\n",
       "<!-- 総合評価 -->\n",
       "<div class=\"u_rankBox col s12\">\n",
       "<span style=\"--rate: 94.0%;\"></span><span class=\"evaluateNumber\">4.7</span><br/>\n",
       "</div>\n",
       "<!-- 各カテゴリ評価 -->\n",
       "<div class=\"u_categoryTipsItem col s12\">\n",
       "<dl>\n",
       "<dt>楽しさ</dt>\n",
       "<dd class=\"is_rank\"><span class=\"evaluateNumber\">4.6</span></dd>\n",
       "<dd class=\"comment\">楽しくて帰りたくなかった</dd>\n",
       "</dl>\n",
       "<dl>\n",
       "<dt>人混みの多さ</dt>\n",
       "<dd class=\"is_rank\"><span class=\"evaluateNumber\">4.5</span></dd>\n",
       "<dd class=\"comment\">非常に混んでいた</dd>\n",
       "</dl>\n",
       "<dl>\n",
       "<dt>景色</dt>\n",
       "<dd class=\"is_rank\"><span class=\"evaluateNumber\">4.9</span></dd>\n",
       "<dd class=\"comment\">海が非常に綺麗であった</dd>\n",
       "</dl>\n",
       "<dl>\n",
       "<dt>アクセス</dt>\n",
       "<dd class=\"is_rank\"><span class=\"evaluateNumber\">4.2</span></dd>\n",
       "<dd class=\"comment\">船で2時間ほどであった</dd>\n",
       "</dl>\n",
       "</div>\n",
       "<div class=\"divider\">\n",
       "</div>\n",
       "</div>"
      ]
     },
     "metadata": {},
     "execution_count": 138
    }
   ],
   "source": [
    "spot"
   ]
  },
  {
   "cell_type": "code",
   "execution_count": 139,
   "metadata": {},
   "outputs": [],
   "source": [
    "categoly_items = soup.find('div', attrs = {'class' : 'u_categoryTipsItem'})"
   ]
  },
  {
   "cell_type": "code",
   "execution_count": 140,
   "metadata": {},
   "outputs": [
    {
     "output_type": "execute_result",
     "data": {
      "text/plain": [
       "[<dl>\n",
       " <dt>楽しさ</dt>\n",
       " <dd class=\"is_rank\"><span class=\"evaluateNumber\">4.6</span></dd>\n",
       " <dd class=\"comment\">楽しくて帰りたくなかった</dd>\n",
       " </dl>,\n",
       " <dl>\n",
       " <dt>人混みの多さ</dt>\n",
       " <dd class=\"is_rank\"><span class=\"evaluateNumber\">4.5</span></dd>\n",
       " <dd class=\"comment\">非常に混んでいた</dd>\n",
       " </dl>,\n",
       " <dl>\n",
       " <dt>景色</dt>\n",
       " <dd class=\"is_rank\"><span class=\"evaluateNumber\">4.9</span></dd>\n",
       " <dd class=\"comment\">海が非常に綺麗であった</dd>\n",
       " </dl>,\n",
       " <dl>\n",
       " <dt>アクセス</dt>\n",
       " <dd class=\"is_rank\"><span class=\"evaluateNumber\">4.2</span></dd>\n",
       " <dd class=\"comment\">船で2時間ほどであった</dd>\n",
       " </dl>]"
      ]
     },
     "metadata": {},
     "execution_count": 140
    }
   ],
   "source": [
    "categoly_items = categoly_items.find_all('dl')\n",
    "categoly_items"
   ]
  },
  {
   "cell_type": "code",
   "execution_count": 141,
   "metadata": {},
   "outputs": [
    {
     "output_type": "execute_result",
     "data": {
      "text/plain": [
       "<dl>\n",
       "<dt>楽しさ</dt>\n",
       "<dd class=\"is_rank\"><span class=\"evaluateNumber\">4.6</span></dd>\n",
       "<dd class=\"comment\">楽しくて帰りたくなかった</dd>\n",
       "</dl>"
      ]
     },
     "metadata": {},
     "execution_count": 141
    }
   ],
   "source": [
    "categoly_items[0]"
   ]
  },
  {
   "cell_type": "code",
   "execution_count": 142,
   "metadata": {},
   "outputs": [
    {
     "output_type": "execute_result",
     "data": {
      "text/plain": [
       "<dl>\n",
       "<dt>楽しさ</dt>\n",
       "<dd class=\"is_rank\"><span class=\"evaluateNumber\">4.6</span></dd>\n",
       "<dd class=\"comment\">楽しくて帰りたくなかった</dd>\n",
       "</dl>"
      ]
     },
     "metadata": {},
     "execution_count": 142
    }
   ],
   "source": [
    "# 楽しさのみ取得\n",
    "categoly_item = categoly_items[0]\n",
    "categoly_item"
   ]
  },
  {
   "cell_type": "code",
   "execution_count": 143,
   "metadata": {},
   "outputs": [
    {
     "output_type": "execute_result",
     "data": {
      "text/plain": [
       "'楽しさ'"
      ]
     },
     "metadata": {},
     "execution_count": 143
    }
   ],
   "source": [
    "categoly = categoly_item.dt.text\n",
    "categoly"
   ]
  },
  {
   "cell_type": "code",
   "execution_count": 144,
   "metadata": {},
   "outputs": [
    {
     "output_type": "execute_result",
     "data": {
      "text/plain": [
       "4.6"
      ]
     },
     "metadata": {},
     "execution_count": 144
    }
   ],
   "source": [
    "rank = float(categoly_item.span.text)\n",
    "rank"
   ]
  },
  {
   "cell_type": "code",
   "execution_count": 145,
   "metadata": {},
   "outputs": [],
   "source": [
    "details = {}\n",
    "\n",
    "# categoly_item = categoly_items[0]\n",
    "for categoly_item in categoly_items :\n",
    "    categoly = categoly_item.dt.text\n",
    "    rank = float(categoly_item.span.text)\n",
    "\n",
    "details[categoly] = rank"
   ]
  },
  {
   "cell_type": "code",
   "execution_count": 146,
   "metadata": {},
   "outputs": [
    {
     "output_type": "execute_result",
     "data": {
      "text/plain": [
       "{'アクセス': 4.2}"
      ]
     },
     "metadata": {},
     "execution_count": 146
    }
   ],
   "source": [
    "details"
   ]
  },
  {
   "cell_type": "code",
   "execution_count": 147,
   "metadata": {},
   "outputs": [],
   "source": [
    "datum = details\n",
    "datum['観光地名'] = spot_name\n",
    "datum['評点'] = eval_num"
   ]
  },
  {
   "cell_type": "code",
   "execution_count": 148,
   "metadata": {},
   "outputs": [
    {
     "output_type": "execute_result",
     "data": {
      "text/plain": [
       "{'アクセス': 4.2, '観光地名': '観光地 1', '評点': 4.7}"
      ]
     },
     "metadata": {},
     "execution_count": 148
    }
   ],
   "source": [
    "datum"
   ]
  },
  {
   "cell_type": "code",
   "execution_count": 149,
   "metadata": {},
   "outputs": [],
   "source": [
    "soup = BeautifulSoup(res.text, 'html.parser')\n",
    "\n",
    "data = []\n",
    "\n",
    "# 観光地名\n",
    "spots = soup.find_all('div', attrs = {'class' : 'u_areaListRankingBox'})\n",
    "for spot in spots :\n",
    "    spot_name = spot.find('div', attrs = {'class' : 'u_title'})\n",
    "\n",
    "    spot_name = spot_name.text.replace('\\n', '')\n",
    "\n",
    "# 評点\n",
    "    eval_num = soup.find('div', attrs = {'class' : 'u_rankBox'}).text\n",
    "    eval_num = float(eval_num.replace('\\n', ''))\n",
    "\n",
    "    categoly_items = soup.find('div', attrs = {'class' : 'u_categoryTipsItem'})\n",
    "    categoly_items = categoly_items.find_all('dl')\n",
    "\n",
    "    details = {}\n",
    "\n",
    "    for categoly_item in categoly_items :\n",
    "        categoly = categoly_item.dt.text\n",
    "        rank = float(categoly_item.span.text)\n",
    "\n",
    "    details[categoly] = rank\n",
    "\n",
    "    datum = details\n",
    "    datum['観光地名'] = spot_name\n",
    "    datum['評点'] = eval_num\n",
    "    data.append(datum)"
   ]
  },
  {
   "cell_type": "code",
   "execution_count": 150,
   "metadata": {},
   "outputs": [
    {
     "output_type": "execute_result",
     "data": {
      "text/plain": [
       "[{'アクセス': 4.2, '観光地名': '1観光地 1', '評点': 4.7},\n",
       " {'アクセス': 4.2, '観光地名': '2観光地 2', '評点': 4.7},\n",
       " {'アクセス': 4.2, '観光地名': '3観光地 3', '評点': 4.7},\n",
       " {'アクセス': 4.2, '観光地名': '4観光地 4', '評点': 4.7},\n",
       " {'アクセス': 4.2, '観光地名': '5観光地 5', '評点': 4.7},\n",
       " {'アクセス': 4.2, '観光地名': '6観光地 6', '評点': 4.7},\n",
       " {'アクセス': 4.2, '観光地名': '7観光地 7', '評点': 4.7},\n",
       " {'アクセス': 4.2, '観光地名': '8観光地 8', '評点': 4.7},\n",
       " {'アクセス': 4.2, '観光地名': '9観光地 9', '評点': 4.7},\n",
       " {'アクセス': 4.2, '観光地名': '10観光地 10', '評点': 4.7}]"
      ]
     },
     "metadata": {},
     "execution_count": 150
    }
   ],
   "source": [
    "data"
   ]
  },
  {
   "cell_type": "code",
   "execution_count": 151,
   "metadata": {},
   "outputs": [],
   "source": [
    "import pandas as pd"
   ]
  },
  {
   "cell_type": "code",
   "execution_count": 152,
   "metadata": {},
   "outputs": [],
   "source": [
    "df = pd.DataFrame(data)"
   ]
  },
  {
   "cell_type": "code",
   "execution_count": 153,
   "metadata": {},
   "outputs": [
    {
     "output_type": "execute_result",
     "data": {
      "text/plain": [
       "   アクセス      観光地名   評点\n",
       "0   4.2    1観光地 1  4.7\n",
       "1   4.2    2観光地 2  4.7\n",
       "2   4.2    3観光地 3  4.7\n",
       "3   4.2    4観光地 4  4.7\n",
       "4   4.2    5観光地 5  4.7\n",
       "5   4.2    6観光地 6  4.7\n",
       "6   4.2    7観光地 7  4.7\n",
       "7   4.2    8観光地 8  4.7\n",
       "8   4.2    9観光地 9  4.7\n",
       "9   4.2  10観光地 10  4.7"
      ],
      "text/html": "<div>\n<style scoped>\n    .dataframe tbody tr th:only-of-type {\n        vertical-align: middle;\n    }\n\n    .dataframe tbody tr th {\n        vertical-align: top;\n    }\n\n    .dataframe thead th {\n        text-align: right;\n    }\n</style>\n<table border=\"1\" class=\"dataframe\">\n  <thead>\n    <tr style=\"text-align: right;\">\n      <th></th>\n      <th>アクセス</th>\n      <th>観光地名</th>\n      <th>評点</th>\n    </tr>\n  </thead>\n  <tbody>\n    <tr>\n      <th>0</th>\n      <td>4.2</td>\n      <td>1観光地 1</td>\n      <td>4.7</td>\n    </tr>\n    <tr>\n      <th>1</th>\n      <td>4.2</td>\n      <td>2観光地 2</td>\n      <td>4.7</td>\n    </tr>\n    <tr>\n      <th>2</th>\n      <td>4.2</td>\n      <td>3観光地 3</td>\n      <td>4.7</td>\n    </tr>\n    <tr>\n      <th>3</th>\n      <td>4.2</td>\n      <td>4観光地 4</td>\n      <td>4.7</td>\n    </tr>\n    <tr>\n      <th>4</th>\n      <td>4.2</td>\n      <td>5観光地 5</td>\n      <td>4.7</td>\n    </tr>\n    <tr>\n      <th>5</th>\n      <td>4.2</td>\n      <td>6観光地 6</td>\n      <td>4.7</td>\n    </tr>\n    <tr>\n      <th>6</th>\n      <td>4.2</td>\n      <td>7観光地 7</td>\n      <td>4.7</td>\n    </tr>\n    <tr>\n      <th>7</th>\n      <td>4.2</td>\n      <td>8観光地 8</td>\n      <td>4.7</td>\n    </tr>\n    <tr>\n      <th>8</th>\n      <td>4.2</td>\n      <td>9観光地 9</td>\n      <td>4.7</td>\n    </tr>\n    <tr>\n      <th>9</th>\n      <td>4.2</td>\n      <td>10観光地 10</td>\n      <td>4.7</td>\n    </tr>\n  </tbody>\n</table>\n</div>"
     },
     "metadata": {},
     "execution_count": 153
    }
   ],
   "source": [
    "df"
   ]
  },
  {
   "cell_type": "code",
   "execution_count": 154,
   "metadata": {},
   "outputs": [
    {
     "output_type": "execute_result",
     "data": {
      "text/plain": [
       "Index(['アクセス', '観光地名', '評点'], dtype='object')"
      ]
     },
     "metadata": {},
     "execution_count": 154
    }
   ],
   "source": [
    "df.columns"
   ]
  },
  {
   "cell_type": "code",
   "execution_count": 155,
   "metadata": {},
   "outputs": [],
   "source": [
    "df = df[['観光地名', '評点', 'アクセス']]"
   ]
  },
  {
   "cell_type": "code",
   "execution_count": 156,
   "metadata": {},
   "outputs": [
    {
     "output_type": "execute_result",
     "data": {
      "text/plain": [
       "       観光地名   評点  アクセス\n",
       "0    1観光地 1  4.7   4.2\n",
       "1    2観光地 2  4.7   4.2\n",
       "2    3観光地 3  4.7   4.2\n",
       "3    4観光地 4  4.7   4.2\n",
       "4    5観光地 5  4.7   4.2\n",
       "5    6観光地 6  4.7   4.2\n",
       "6    7観光地 7  4.7   4.2\n",
       "7    8観光地 8  4.7   4.2\n",
       "8    9観光地 9  4.7   4.2\n",
       "9  10観光地 10  4.7   4.2"
      ],
      "text/html": "<div>\n<style scoped>\n    .dataframe tbody tr th:only-of-type {\n        vertical-align: middle;\n    }\n\n    .dataframe tbody tr th {\n        vertical-align: top;\n    }\n\n    .dataframe thead th {\n        text-align: right;\n    }\n</style>\n<table border=\"1\" class=\"dataframe\">\n  <thead>\n    <tr style=\"text-align: right;\">\n      <th></th>\n      <th>観光地名</th>\n      <th>評点</th>\n      <th>アクセス</th>\n    </tr>\n  </thead>\n  <tbody>\n    <tr>\n      <th>0</th>\n      <td>1観光地 1</td>\n      <td>4.7</td>\n      <td>4.2</td>\n    </tr>\n    <tr>\n      <th>1</th>\n      <td>2観光地 2</td>\n      <td>4.7</td>\n      <td>4.2</td>\n    </tr>\n    <tr>\n      <th>2</th>\n      <td>3観光地 3</td>\n      <td>4.7</td>\n      <td>4.2</td>\n    </tr>\n    <tr>\n      <th>3</th>\n      <td>4観光地 4</td>\n      <td>4.7</td>\n      <td>4.2</td>\n    </tr>\n    <tr>\n      <th>4</th>\n      <td>5観光地 5</td>\n      <td>4.7</td>\n      <td>4.2</td>\n    </tr>\n    <tr>\n      <th>5</th>\n      <td>6観光地 6</td>\n      <td>4.7</td>\n      <td>4.2</td>\n    </tr>\n    <tr>\n      <th>6</th>\n      <td>7観光地 7</td>\n      <td>4.7</td>\n      <td>4.2</td>\n    </tr>\n    <tr>\n      <th>7</th>\n      <td>8観光地 8</td>\n      <td>4.7</td>\n      <td>4.2</td>\n    </tr>\n    <tr>\n      <th>8</th>\n      <td>9観光地 9</td>\n      <td>4.7</td>\n      <td>4.2</td>\n    </tr>\n    <tr>\n      <th>9</th>\n      <td>10観光地 10</td>\n      <td>4.7</td>\n      <td>4.2</td>\n    </tr>\n  </tbody>\n</table>\n</div>"
     },
     "metadata": {},
     "execution_count": 156
    }
   ],
   "source": [
    "df"
   ]
  },
  {
   "cell_type": "code",
   "execution_count": 157,
   "metadata": {},
   "outputs": [],
   "source": [
    "df.to_csv('観光地情報.csv', index = False)"
   ]
  },
  {
   "cell_type": "code",
   "execution_count": null,
   "metadata": {},
   "outputs": [],
   "source": []
  }
 ]
}